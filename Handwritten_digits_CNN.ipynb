{
 "cells": [
  {
   "cell_type": "markdown",
   "id": "jewish-minority",
   "metadata": {},
   "source": [
    "# Program to detect handwritten digits, using CNN\n",
    "Link to the dataset : https://www.kaggle.com/dhruvildave/english-handwritten-characters-dataset\n",
    "I have only used the images of numerical digits from the link of the dataset provided. The folder containing the traning images is present in the GitHub repository."
   ]
  },
  {
   "cell_type": "code",
   "execution_count": 1,
   "id": "handled-acquisition",
   "metadata": {},
   "outputs": [
    {
     "name": "stdout",
     "output_type": "stream",
     "text": [
      "Found 550 images belonging to 10 classes.\n"
     ]
    }
   ],
   "source": [
    "from tensorflow.keras.preprocessing.image import ImageDataGenerator\n",
    "train_datagen = ImageDataGenerator(rescale=1/255)\n",
    "\n",
    "# Flow training images in batches of 55 using train_datagen generator\n",
    "train_generator = train_datagen.flow_from_directory(\n",
    "        'C:\\\\Users\\\\agarw\\\\OneDrive\\\\Desktop\\\\TEST_FOLDER',  # This is the source directory for training images\n",
    "        target_size=(28, 28),  # All images will be resized to 28x28\n",
    "        batch_size=55,\n",
    "        class_mode='categorical')"
   ]
  },
  {
   "cell_type": "code",
   "execution_count": 12,
   "id": "guilty-parks",
   "metadata": {},
   "outputs": [
    {
     "name": "stdout",
     "output_type": "stream",
     "text": [
      "Epoch 1/25\n",
      "8/8 [==============================] - 4s 443ms/step - loss: 2.3497 - accuracy: 0.0666\n",
      "Epoch 2/25\n",
      "8/8 [==============================] - 4s 436ms/step - loss: 2.3031 - accuracy: 0.0916\n",
      "Epoch 3/25\n",
      "8/8 [==============================] - 4s 447ms/step - loss: 2.2526 - accuracy: 0.1657\n",
      "Epoch 4/25\n",
      "8/8 [==============================] - 4s 443ms/step - loss: 2.0698 - accuracy: 0.2906\n",
      "Epoch 5/25\n",
      "8/8 [==============================] - 4s 475ms/step - loss: 1.8056 - accuracy: 0.3832\n",
      "Epoch 6/25\n",
      "8/8 [==============================] - 4s 448ms/step - loss: 1.6964 - accuracy: 0.3419\n",
      "Epoch 7/25\n",
      "8/8 [==============================] - 4s 437ms/step - loss: 1.3474 - accuracy: 0.5858\n",
      "Epoch 8/25\n",
      "8/8 [==============================] - 4s 453ms/step - loss: 1.1867 - accuracy: 0.6108\n",
      "Epoch 9/25\n",
      "8/8 [==============================] - 4s 432ms/step - loss: 1.0461 - accuracy: 0.6700\n",
      "Epoch 10/25\n",
      "8/8 [==============================] - 4s 437ms/step - loss: 0.7647 - accuracy: 0.7609\n",
      "Epoch 11/25\n",
      "8/8 [==============================] - 3s 437ms/step - loss: 1.0816 - accuracy: 0.6439\n",
      "Epoch 12/25\n",
      "8/8 [==============================] - 4s 445ms/step - loss: 0.8851 - accuracy: 0.6821\n",
      "Epoch 13/25\n",
      "8/8 [==============================] - 4s 438ms/step - loss: 0.5403 - accuracy: 0.8385\n",
      "Epoch 14/25\n",
      "8/8 [==============================] - 4s 437ms/step - loss: 0.5871 - accuracy: 0.8106\n",
      "Epoch 15/25\n",
      "8/8 [==============================] - 3s 434ms/step - loss: 0.4712 - accuracy: 0.8643\n",
      "Epoch 16/25\n",
      "8/8 [==============================] - 4s 453ms/step - loss: 0.4869 - accuracy: 0.8583\n",
      "Epoch 17/25\n",
      "8/8 [==============================] - 4s 448ms/step - loss: 0.3611 - accuracy: 0.8912\n",
      "Epoch 18/25\n",
      "8/8 [==============================] - 4s 447ms/step - loss: 0.4695 - accuracy: 0.8371\n",
      "Epoch 19/25\n",
      "8/8 [==============================] - 4s 446ms/step - loss: 0.2329 - accuracy: 0.9261\n",
      "Epoch 20/25\n",
      "8/8 [==============================] - 4s 439ms/step - loss: 0.3293 - accuracy: 0.8791\n",
      "Epoch 21/25\n",
      "8/8 [==============================] - 4s 450ms/step - loss: 0.1845 - accuracy: 0.9507\n",
      "Epoch 22/25\n",
      "8/8 [==============================] - 4s 443ms/step - loss: 0.2569 - accuracy: 0.9164\n",
      "Epoch 23/25\n",
      "8/8 [==============================] - 4s 436ms/step - loss: 0.2107 - accuracy: 0.9452\n",
      "Epoch 24/25\n",
      "8/8 [==============================] - 3s 436ms/step - loss: 0.0936 - accuracy: 0.9811\n",
      "Epoch 25/25\n",
      "8/8 [==============================] - 4s 441ms/step - loss: 0.1916 - accuracy: 0.9314\n"
     ]
    },
    {
     "data": {
      "text/plain": [
       "<tensorflow.python.keras.callbacks.History at 0x20bd3609730>"
      ]
     },
     "execution_count": 12,
     "metadata": {},
     "output_type": "execute_result"
    }
   ],
   "source": [
    "import tensorflow as tf\n",
    "from tensorflow import keras\n",
    "from tensorflow.keras.optimizers import RMSprop\n",
    "\n",
    "model=keras.models.Sequential([\n",
    "    keras.layers.Conv2D(16,(3,3),activation='relu',input_shape=[28,28,3]),\n",
    "    keras.layers.MaxPooling2D(2,2),\n",
    "    keras.layers.Conv2D(32,(3,3),activation='relu'),\n",
    "    keras.layers.MaxPooling2D(2,2),\n",
    "    keras.layers.Conv2D(64,(3,3),activation='relu'),\n",
    "    keras.layers.MaxPooling2D(2,2),\n",
    "    keras.layers.Flatten(),\n",
    "    keras.layers.Dense(512,activation='relu'),\n",
    "    keras.layers.Dense(10,activation='softmax')\n",
    "])\n",
    "model.compile(loss='categorical_crossentropy',optimizer=RMSprop(lr=0.002),metrics='accuracy')\n",
    "model.fit(train_generator,\n",
    "          steps_per_epoch=8,\n",
    "                      epochs=25,\n",
    "                      verbose=1)"
   ]
  },
  {
   "cell_type": "code",
   "execution_count": 13,
   "id": "residential-maker",
   "metadata": {},
   "outputs": [
    {
     "name": "stdout",
     "output_type": "stream",
     "text": [
      "[[2.1397918e-36 0.0000000e+00 0.0000000e+00 0.0000000e+00 0.0000000e+00\n",
      "  1.0000000e+00 0.0000000e+00 0.0000000e+00 0.0000000e+00 0.0000000e+00]]\n"
     ]
    }
   ],
   "source": [
    "from keras.preprocessing import image\n",
    "img=image.load_img(\"C:\\\\Users\\\\agarw\\OneDrive\\\\Desktop\\\\lkr.jpeg\",target_size=[28,28])#Location of image to try the model on\n",
    "x=image.img_to_array(img)\n",
    "import numpy as np\n",
    "x = np.expand_dims(x, axis=0)\n",
    "images = np.vstack([x])\n",
    "classes = model.predict(images)\n",
    "classes.astype('int')\n",
    "print(classes)"
   ]
  }
 ],
 "metadata": {
  "kernelspec": {
   "display_name": "Python 3",
   "language": "python",
   "name": "python3"
  },
  "language_info": {
   "codemirror_mode": {
    "name": "ipython",
    "version": 3
   },
   "file_extension": ".py",
   "mimetype": "text/x-python",
   "name": "python",
   "nbconvert_exporter": "python",
   "pygments_lexer": "ipython3",
   "version": "3.8.7"
  }
 },
 "nbformat": 4,
 "nbformat_minor": 5
}
